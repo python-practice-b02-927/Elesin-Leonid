{
 "cells": [
  {
   "cell_type": "markdown",
   "metadata": {},
   "source": [
    "### <font color=darkred>Упражнение 1. Векторное произведение</font>\n",
    "\n",
    "Перегрузите оператор `@` так, чтобы при его применении к экземплярам класса `Vector` вычислялось векторное произведение. \n",
    "\n",
    "#### Пример использования оператора `@`:\n",
    "```python\n",
    ">>> v1 = Vector(1, 0, 0)\n",
    ">>> v2 = Vector(0, 1, 0)\n",
    ">>> v3 = v1 @ v2\n",
    ">>> print(v3)\n",
    "<0, 0, 1>\n",
    ">>> v4 = v2 @ v1\n",
    ">>> print(v4)\n",
    "<0, 0, -1>\n",
    "```"
   ]
  },
  {
   "cell_type": "code",
   "execution_count": null,
   "metadata": {},
   "outputs": [],
   "source": [
    "class Vector:\n",
    "    def __init__(self, x, y, z):\n",
    "        self.x = x\n",
    "        self.y = y\n",
    "        self.z = z\n",
    "    \n",
    "    def __str__(self):\n",
    "\n",
    "        s = f\"<{self.x}, {self.y}, {self.z}>\"\n",
    "        return s\n",
    "        \n",
    "    def __matmul__(self, other):\n",
    "        x = self.y * other.z - self.z * other.y\n",
    "        y = self.z * other.x - self.x * other.z\n",
    "        z = self.x * other.y - self.y * other.x\n",
    "        v = Vector(x, y, z)\n",
    "        return v\n",
    "v1 = Vector(1, 0, 0)\n",
    "v2 = Vector(0, 1, 0)\n",
    "v3=v1@v2\n",
    "print(v3)\n",
    "v4=v2@v1\n",
    "print(v4)\n",
    "\n",
    "    "
   ]
  },
  {
   "cell_type": "markdown",
   "metadata": {},
   "source": [
    "# <font color=blue>Операторы `()`, `[]`</font>\n",
    "\n",
    "## <font color=green>Как сделать экземпляры класса вызываемыми</font>\n",
    "\n",
    "Если у класса есть метод `__call__()`, то объекты этого класса можно вызывать, как функции. \n",
    "\n",
    "### Пример 1"
   ]
  },
  {
   "cell_type": "code",
   "execution_count": null,
   "metadata": {},
   "outputs": [],
   "source": [
    "class CallOpOverload:\n",
    "    def __call__(self, x, y):\n",
    "        print(\"You called me with arguments {} {}!\".format(x, y))\n",
    "        \n",
    "obj = CallOpOverload()\n",
    "obj(1, 2)"
   ]
  },
  {
   "cell_type": "code",
   "execution_count": null,
   "metadata": {},
   "outputs": [],
   "source": [
    "Функции и методы -- это еще 2 типа объектов, у которых есть метод `__call__()`. У метода `__call__()` тоже есть метод `__call__()`. И так до бесконечности."
   ]
  },
  {
   "cell_type": "code",
   "execution_count": 13,
   "metadata": {},
   "outputs": [
    {
     "name": "stdout",
     "output_type": "stream",
     "text": [
      "<method-wrapper '__call__' of function object at 0x0000017603430400>\n",
      "<method-wrapper '__call__' of method-wrapper object at 0x0000017603448B38>\n"
     ]
    }
   ],
   "source": [
    "def f(x):\n",
    "    print(\"x:\", x)\n",
    "\n",
    "print(f.__call__)\n",
    "print(f.__call__.__call__)"
   ]
  },
  {
   "cell_type": "code",
   "execution_count": 14,
   "metadata": {
    "scrolled": true
   },
   "outputs": [
    {
     "name": "stdout",
     "output_type": "stream",
     "text": [
      "x: 1\n"
     ]
    }
   ],
   "source": [
    "f.__call__.__call__(1)"
   ]
  },
  {
   "cell_type": "markdown",
   "metadata": {},
   "source": [
    "## <font color=green>Как сделать экземпляры класса индексируемыми</font>\n",
    "\n",
    "Можно создать класс, чьи экземпляры будут индексируемыми, то есть будет возможность доступа к данным с помощью квадратных скобок `[]`. Иначе говоря, можно имитировать список или словарь. Оператор `[]` настраивается с помощью методов `__setitem__()`, `__getitem__()` и `__delitem__()`.\n",
    "\n",
    "1. Метод `__setitem__(self, key, value)` присваивает новое значение элементу. Вызывается, если квадратные скобки стоят слева от оператора присваивания.\n",
    "```python\n",
    "obj[key] = value\n",
    "```\n",
    "\n",
    "- Метод `__getitem__(self, key)` возвращает значение элемента. Вызывается при получении значения элемента: элемент справа от оператора присваивания, элемент в качестве аргумента функции или операнда.\n",
    "```python\n",
    "s = 2 + obj[key]\n",
    "print(obj[key])\n",
    "```\n",
    "\n",
    "- Метод `__delitem__(self, key)` удаляет элемент. Вызывается, если элемент стоит после слова `del`.\n",
    "```python\n",
    "del obj[key]\n",
    "```\n",
    "\n",
    "### Пример 2. Имитация списка"
   ]
  },
  {
   "cell_type": "code",
   "execution_count": 27,
   "metadata": {},
   "outputs": [
    {
     "name": "stdout",
     "output_type": "stream",
     "text": [
      "[1, 2, 3]\n",
      "[10, 2, 3]\n",
      "[10, 3]\n",
      "3\n"
     ]
    }
   ],
   "source": [
    "class ListImitation:\n",
    "    def __init__(self, data_init):\n",
    "        self._data = list(data_init)\n",
    "    \n",
    "    def __setitem__(self, key, value):\n",
    "        self._data[key] = value\n",
    "    \n",
    "    def __getitem__(self, key):\n",
    "        return self._data[key]\n",
    "    \n",
    "    def __delitem__(self, key):\n",
    "        del self._data[key]\n",
    "    \n",
    "    def __str__(self):\n",
    "        return str(self._data)\n",
    "\n",
    "\n",
    "li = ListImitation((1, 2, 3))\n",
    "print(li)\n",
    "li[0] = 10\n",
    "print(li)\n",
    "del li[1]\n",
    "print(li)\n",
    "print(li[-1])"
   ]
  },
  {
   "cell_type": "markdown",
   "metadata": {},
   "source": [
    "### Пример 3. Имитация словаря"
   ]
  },
  {
   "cell_type": "code",
   "execution_count": 28,
   "metadata": {},
   "outputs": [
    {
     "name": "stdout",
     "output_type": "stream",
     "text": [
      "{'a': 'b', (1, 2): 3, 'foo': 'bar'}\n",
      "{'a': 10, (1, 2): 3, 'foo': 'bar'}\n",
      "{(1, 2): 3, 'foo': 'bar'}\n",
      "3\n"
     ]
    }
   ],
   "source": [
    "class DictImitation:\n",
    "    def __init__(self, data_init):\n",
    "        self._data = dict(data_init)\n",
    "    \n",
    "    def __setitem__(self, key, value):\n",
    "        self._data[key] = value\n",
    "    \n",
    "    def __getitem__(self, key):\n",
    "        return self._data[key]\n",
    "    \n",
    "    def __delitem__(self, key):\n",
    "        del self._data[key]\n",
    "    \n",
    "    def __str__(self):\n",
    "        return str(self._data)\n",
    "    \n",
    "\n",
    "di = DictImitation({'a': 'b', (1, 2): 3, 'foo': 'bar'})\n",
    "print(di)\n",
    "di['a'] = 10\n",
    "print(di)\n",
    "del di['a']\n",
    "print(di)\n",
    "print(di[(1, 2)])"
   ]
  },
  {
   "cell_type": "markdown",
   "metadata": {},
   "source": [
    "### Упражнение 2. Многочлен\n",
    "\n",
    "Создайте класс `Polynomial`, имитирующий многочлен одной переменной $x$. \n",
    "\n",
    "Для объектов класса `Polynomial` должны быть определены операторы \n",
    "\n",
    "- сложения `+`, \n",
    "\n",
    "- вычитания `-`, \n",
    "\n",
    "- унарного отрицания `-` (метод `__neg__(self)`),\n",
    "\n",
    "- умножения `*`.\n",
    "\n",
    "- возведения в степень `**` (только для целых неотрицательных чисел).\n",
    "\n",
    "Конструктор должен поддерживать 2 типа входных данных: список и словарь. Если на вход подается список, то этот список содержит коэффициенты членов. Если на вход подан словарь, то ключи словаря -- степени переменной $x$, а значения -- коэффициенты при соответствующих членах.\n",
    "\n",
    "Добавьте методы:\n",
    "\n",
    "- `__str__()` для красивой печати;\n",
    "\n",
    "- `__getitem__()` для получения коэффициента (метод `__getitem__()` должен возвращать `0`, если в многочлене нет искомого слагаемого); \n",
    "\n",
    "- `__setitem__()` для добавления члена или изменения кооэффициента;\n",
    "\n",
    "- `__delitem__()` для удаления члена;\n",
    "\n",
    "- `__call__(self, value)` для вычисления многочлена при $x = \\text{value}$.\n",
    "\n",
    "\n",
    "Задокументируйте сам класс и методы `__init__()`, `__call__()`, `__getitem__()` `__pow__()`. Руководствуйтесь [PEP 257](https://www.python.org/dev/peps/pep-0257/).\n",
    "\n",
    "\n",
    "#### Примеры использования\n",
    "```python\n",
    ">>> p1 = Polynomial([2, 1])\n",
    ">>> p2 = Polynomial({0: -2, 1: 1})\n",
    ">>> print(p1)\n",
    "x + 2\n",
    ">>> print(p2)\n",
    "x - 2\n",
    ">>> print(p1 + p2)\n",
    "2*x\n",
    ">>> print(p1 - p2)\n",
    "4\n",
    ">>> print(-p1 + p2)\n",
    "-4\n",
    ">>> print(p1 * p2)\n",
    "x^2 - 4\n",
    ">>> print(p1 ** 2)\n",
    "x^2 + 4*x + 4\n",
    ">>> print(p2 ** 3)\n",
    "x^3 - 6*x^2 + 12*x - 8\n",
    ">>> print(p2 ** 0)\n",
    "1\n",
    ">>> del p1[1]\n",
    ">>> print(p1)\n",
    "2\n",
    ">>> p1[1] = -1\n",
    ">>> print(p1)\n",
    "-x + 2\n",
    ">>> print(p1[0])\n",
    "2\n",
    ">>> p3 = p1 * p2\n",
    ">>> print(p3)\n",
    "-x^2 + 4*x - 4\n",
    ">>> a = p3(0.5)\n",
    ">>> print(a)\n",
    "-2.25\n",
    ">>> p3[10]\n",
    "0\n",
    "```"
   ]
  },
  {
   "cell_type": "code",
   "execution_count": 273,
   "metadata": {},
   "outputs": [],
   "source": [
    "class Polynomial:\n",
    "    def __init__(self, data_init):\n",
    "        \"\"\"Input: dict or list\"\"\"\n",
    "        if type(data_init) is dict:\n",
    "            self._data = dict(data_init)\n",
    "        else:\n",
    "            self._data = list(data_init)\n",
    "\n",
    "    def __setitem__(self, key, value):\n",
    "        self._data[key] = value\n",
    "\n",
    "    def __getitem__(self, key):\n",
    "        \"\"\"to obtain coefficients, the __getitem __ () method should return 0\n",
    "           if there is no required term in the polynomial\"\"\"\n",
    "        if key < len(self._data):\n",
    "            return self._data[key]\n",
    "        else:\n",
    "            return 0\n",
    "\n",
    "    def __delitem__(self, key):\n",
    "        self._data[key] = 0\n",
    "\n",
    "    def __str__(self):\n",
    "        p = str(self._data[0])\n",
    "        if self._data[0] == 0:\n",
    "            p = str()\n",
    "        i = 1\n",
    "        while i < len(self._data):\n",
    "            if self._data[i] < 0 and i >= 1 and self._data[i] != -1:\n",
    "                if i > 1:\n",
    "                    p += ' - ' + str(-self._data[i]) + '*x^' + str(i)\n",
    "                else:\n",
    "                    p += ' - ' + str(-self._data[i]) + '*x'\n",
    "            if self._data[i] > 0 and i >= 1 and self._data[i] != 1:\n",
    "                if self._data[i-1] != 0:\n",
    "                    if i > 1:\n",
    "                        p += ' + ' + str(self._data[i]) + '*x^' + str(i)\n",
    "                    else:\n",
    "                        p += ' + ' + str(self._data[i]) + '*x'\n",
    "                else:\n",
    "                    if i > 1:\n",
    "                        p += str(self._data[i]) + '*x^' + str(i)\n",
    "                    else:\n",
    "                        p += str(self._data[i]) + '*x'\n",
    "            if self._data[i] == 1:\n",
    "                if self._data[0] != 0:\n",
    "                    if i > 1:\n",
    "                        p += ' + x^' + str(i)\n",
    "                    else:\n",
    "                        p += ' + x'\n",
    "                else:\n",
    "                    if i > 1:\n",
    "                        p += ' x^' + str(i)\n",
    "                    else:\n",
    "                        p += ' x'\n",
    "\n",
    "            if self._data[i] == -1:\n",
    "                if i > 1:\n",
    "                    p += ' - x^' + str(i)\n",
    "                else:\n",
    "                    p += '- x'\n",
    "            i += 1\n",
    "        return p\n",
    "\n",
    "    def __add__(self, other):\n",
    "        p = Polynomial({})\n",
    "        i = 0\n",
    "        while i < len(self._data) or i < len(other._data):\n",
    "            if i < len(other._data) and i < len(self._data):\n",
    "                p._data[i] = self._data[i] + other._data[i]\n",
    "            elif i >= len(self._data):\n",
    "                p._data[i] = other._data[i]\n",
    "            elif i >= len(other._data):\n",
    "                p._data[i] = self._data[i]\n",
    "            i += 1\n",
    "        return p\n",
    "\n",
    "    def __sub__(self, other):\n",
    "        p = Polynomial({})\n",
    "        i = 0\n",
    "        while i < len(self._data) or i < len(other._data):\n",
    "            if i < len(other._data) and i < len(self._data):\n",
    "                p._data[i] = self._data[i] - other._data[i]\n",
    "            elif i >= len(self._data):\n",
    "                p._data[i] = -other._data[i]\n",
    "            elif i >= len(other._data):\n",
    "                p._data[i] = self._data[i]\n",
    "            i += 1\n",
    "        return p\n",
    "\n",
    "    def __mul__(self, other):\n",
    "        p = Polynomial({})\n",
    "        i = 0\n",
    "        while i < (len(self._data)+len(other._data)-1):\n",
    "            p._data[i] = 0\n",
    "            i += 1\n",
    "        i = 0\n",
    "        while i < (len(self._data)):\n",
    "            k = 0\n",
    "            while k < (len(other._data)):\n",
    "                p._data[i+k] += self._data[i]*other._data[k]\n",
    "                k += 1\n",
    "            i += 1\n",
    "        return p\n",
    "\n",
    "    def __neg__(self):\n",
    "        p = Polynomial({})\n",
    "        i = 0\n",
    "        while i < len(self._data):\n",
    "            p._data[i] = -self._data[i]\n",
    "            i += 1\n",
    "        return p\n",
    "\n",
    "    def __pow__(self, n):\n",
    "        \"\"\"Exponentiation, n - degree\"\"\"\n",
    "\n",
    "        p = Polynomial([1])\n",
    "        i = 0\n",
    "        while i < n:\n",
    "            p = p * self\n",
    "            i += 1\n",
    "        return p\n",
    "\n",
    "    def __call__(self, value):\n",
    "        \"\"\"Computing the polynomial for 𝑥 = value\"\"\"\n",
    "        s = 0\n",
    "        i = 0\n",
    "        while i < len(self._data):\n",
    "            s += value ** i*self._data[i]\n",
    "            i += 1\n",
    "        return s\n"
   ]
  },
  {
   "cell_type": "code",
   "execution_count": 274,
   "metadata": {},
   "outputs": [
    {
     "name": "stdout",
     "output_type": "stream",
     "text": [
      "2 + x\n",
      "-2 + x\n"
     ]
    }
   ],
   "source": [
    "p1 = Polynomial([2, 1])\n",
    "p2 = Polynomial({0: -2, 1: 1})\n",
    "print(p1)\n",
    "print(p2)"
   ]
  },
  {
   "cell_type": "code",
   "execution_count": 275,
   "metadata": {},
   "outputs": [
    {
     "name": "stdout",
     "output_type": "stream",
     "text": [
      "2*x\n",
      "4\n",
      "-4\n",
      "-4 + x^2\n",
      "4 + 4*x + x^2\n",
      "-8 + 12*x - 6*x^2 + x^3\n",
      "1\n"
     ]
    }
   ],
   "source": [
    "print(p1 + p2)\n",
    "print(p1 - p2)\n",
    "print(-p1 + p2)\n",
    "print(p1 * p2)\n",
    "print(p1 ** 2)\n",
    "print(p2 ** 3)\n",
    "print(p2 ** 0)"
   ]
  },
  {
   "cell_type": "code",
   "execution_count": 276,
   "metadata": {},
   "outputs": [
    {
     "name": "stdout",
     "output_type": "stream",
     "text": [
      "2\n",
      "2- x\n",
      "2\n",
      "0\n"
     ]
    }
   ],
   "source": [
    "del p1[1]\n",
    "print(p1)\n",
    "p1[1] = -1\n",
    "print(p1)\n",
    "print(p1[0])\n",
    "print(p1[10])"
   ]
  },
  {
   "cell_type": "code",
   "execution_count": 277,
   "metadata": {},
   "outputs": [
    {
     "name": "stdout",
     "output_type": "stream",
     "text": [
      "-4 + 4*x - x^2\n",
      "-2.25\n"
     ]
    }
   ],
   "source": [
    "p3 = p1 * p2\n",
    "print(p3)\n",
    "a = p3(0.5)\n",
    "print(a)"
   ]
  },
  {
   "cell_type": "markdown",
   "metadata": {},
   "source": [
    "### Упражнение 3. Вызов методов родительских классов\n",
    "\n",
    "Из классах `A`, `B` и `C` есть методы `f()` и `g()`, причем все методы `f()` вызывают метод `g()`. \n",
    "1. Допишите в методе `C.m()` вызовы методов `A.f()`, `B.f()`, `C.f()`. \n",
    "\n",
    "2. Модифицируйте методы `A.f()` и `B.f()` так, чтобы при вызове `X.f()`, `X.f()` вызывал `X.g()` (`X` -- это `A` или `B`)."
   ]
  },
  {
   "cell_type": "code",
   "execution_count": 266,
   "metadata": {},
   "outputs": [],
   "source": [
    "class A:\n",
    "    def f(self):\n",
    "        print(\"Method `f()` in class `A`\")\n",
    "        A.g(self)\n",
    "        \n",
    "    def g(self):\n",
    "        print(\"Method `g()` in class `A`\")\n",
    "        \n",
    "\n",
    "class B(A):\n",
    "    def f(self):\n",
    "        print(\"Method `f()` in class `B`\")\n",
    "        B.g(self)\n",
    "        \n",
    "    def g(self):\n",
    "        print(\"Method `g()` in class `B`\")\n",
    "        \n",
    "\n",
    "class C(B):\n",
    "    def f(self):\n",
    "        print(\"Method `f()` in class `C`\")\n",
    "        self.g()\n",
    "        \n",
    "    def g(self):\n",
    "        print(\"Method `g()` in class `C`\")\n",
    "        \n",
    "    def m(self):\n",
    "        A.f(self)\n",
    "        B.f(self)\n",
    "        C.f(self)"
   ]
  },
  {
   "cell_type": "code",
   "execution_count": 267,
   "metadata": {},
   "outputs": [
    {
     "name": "stdout",
     "output_type": "stream",
     "text": [
      "Method `f()` in class `A`\n",
      "Method `g()` in class `A`\n",
      "Method `f()` in class `B`\n",
      "Method `g()` in class `B`\n",
      "Method `f()` in class `C`\n",
      "Method `g()` in class `C`\n"
     ]
    }
   ],
   "source": [
    "c = C()\n",
    "c.m()\n"
   ]
  },
  {
   "cell_type": "markdown",
   "metadata": {},
   "source": [
    "### Упражнение 4. Ромб смерти\n",
    "\n",
    "Из классов `A`, `B`, `C`, `D`, `E`, `F` составлен ромб сметри. Во всех классах есть метод `f()`. \n",
    "\n",
    "С помощью функции `super()` вызовите методы  `A.f()`, `B.f()`, `C.f()`, `D.f()`, `E.f()` в методе `m()`."
   ]
  },
  {
   "cell_type": "code",
   "execution_count": 264,
   "metadata": {},
   "outputs": [],
   "source": [
    "class A:\n",
    "    def f(self):\n",
    "        print(\"Method `f()` in class `A`\")\n",
    "\n",
    "\n",
    "class B(A):\n",
    "    def f(self):\n",
    "        print(\"Method `f()` in class `B`\")\n",
    "        \n",
    "\n",
    "class C(B):\n",
    "    def f(self):\n",
    "        print(\"Method `f()` in class `C`\")\n",
    "        \n",
    "        \n",
    "class D(A):\n",
    "    def f(self):\n",
    "        print(\"Method `f()` in class `D`\")\n",
    "        \n",
    "        \n",
    "class E(D):\n",
    "    def f(self):\n",
    "        print(\"Method `f()` in class `E`\")\n",
    "\n",
    "\n",
    "class F(C, E):\n",
    "    def f(self):\n",
    "        print(\"Method `f()` in class `F`\")\n",
    "        \n",
    "    def m(self):\n",
    "        super(D, self).f()\n",
    "        super(C, self).f()\n",
    "        super(F, self).f()\n",
    "        super(E, self).f()\n",
    "        super(B, self).f()\n"
   ]
  },
  {
   "cell_type": "code",
   "execution_count": 265,
   "metadata": {},
   "outputs": [
    {
     "name": "stdout",
     "output_type": "stream",
     "text": [
      "Method `f()` in class `A`\n",
      "Method `f()` in class `B`\n",
      "Method `f()` in class `C`\n",
      "Method `f()` in class `D`\n",
      "Method `f()` in class `E`\n"
     ]
    }
   ],
   "source": [
    "f = F()\n",
    "f.m()"
   ]
  },
  {
   "cell_type": "code",
   "execution_count": null,
   "metadata": {},
   "outputs": [],
   "source": []
  },
  {
   "cell_type": "code",
   "execution_count": null,
   "metadata": {},
   "outputs": [],
   "source": []
  },
  {
   "cell_type": "code",
   "execution_count": null,
   "metadata": {},
   "outputs": [],
   "source": []
  },
  {
   "cell_type": "code",
   "execution_count": null,
   "metadata": {},
   "outputs": [],
   "source": []
  },
  {
   "cell_type": "code",
   "execution_count": null,
   "metadata": {},
   "outputs": [],
   "source": []
  }
 ],
 "metadata": {
  "kernelspec": {
   "display_name": "Python 3",
   "language": "python",
   "name": "python3"
  },
  "language_info": {
   "codemirror_mode": {
    "name": "ipython",
    "version": 3
   },
   "file_extension": ".py",
   "mimetype": "text/x-python",
   "name": "python",
   "nbconvert_exporter": "python",
   "pygments_lexer": "ipython3",
   "version": "3.7.3"
  }
 },
 "nbformat": 4,
 "nbformat_minor": 2
}
